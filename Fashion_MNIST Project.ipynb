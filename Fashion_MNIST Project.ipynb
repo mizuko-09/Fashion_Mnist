{
 "cells": [
  {
   "cell_type": "code",
   "execution_count": 13,
   "id": "2f87f58d",
   "metadata": {},
   "outputs": [],
   "source": [
    "import numpy as np\n",
    "import pandas as pd\n",
    "import matplotlib.pyplot as plt\n",
    "from sklearn.metrics import classification_report, confusion_matrix\n",
    "import tensorflow as tf\n",
    "from tensorflow.keras.datasets import fashion_mnist\n",
    "from tensorflow.keras.models import Sequential\n",
    "from tensorflow.keras.layers import Conv2D, MaxPooling2D, Flatten, Dense, Dropout\n",
    "from tensorflow.keras.utils import to_categorical"
   ]
  },
  {
   "cell_type": "code",
   "execution_count": 14,
   "id": "f37f22d4",
   "metadata": {},
   "outputs": [
    {
     "name": "stdout",
     "output_type": "stream",
     "text": [
      "(60000, 28, 28)\n",
      "(10000, 28, 28)\n",
      "(60000,)\n",
      "(10000,)\n"
     ]
    }
   ],
   "source": [
    "(x_train, y_train), (x_test, y_test) = fashion_mnist.load_data()\n",
    "print(x_train.shape)\n",
    "print(x_test.shape)\n",
    "print(y_train.shape)\n",
    "print(y_test.shape)"
   ]
  },
  {
   "cell_type": "code",
   "execution_count": 15,
   "id": "85eae0f7",
   "metadata": {},
   "outputs": [],
   "source": [
    "x_train = x_train/255.0\n",
    "x_test = x_test/255.0"
   ]
  },
  {
   "cell_type": "code",
   "execution_count": 16,
   "id": "e470bc45",
   "metadata": {},
   "outputs": [],
   "source": [
    "y_train = to_categorical(y_train,num_classes=10)\n",
    "y_test = to_categorical(y_test,num_classes=10)"
   ]
  },
  {
   "cell_type": "code",
   "execution_count": 17,
   "id": "bdb38114",
   "metadata": {},
   "outputs": [],
   "source": [
    "model = Sequential()\n",
    "model.add(Conv2D(32, (3,3),activation='relu', input_shape=(28,28,1)))\n",
    "model.add(MaxPooling2D((2,2)))\n",
    "model.add(Conv2D(64, (3, 3), activation='relu'))\n",
    "model.add(MaxPooling2D((2,2)))\n",
    "model.add(Conv2D(64,(3,3),activation='relu'))\n",
    "model.add(Flatten())\n",
    "model.add(Dense(64,activation='relu'))\n",
    "model.add(Dense(10, activation='softmax'))\n",
    "\n",
    "model.compile(optimizer='adam',loss='categorical_crossentropy',metrics=['accuracy'])"
   ]
  },
  {
   "cell_type": "code",
   "execution_count": 18,
   "id": "07b58f4f",
   "metadata": {},
   "outputs": [
    {
     "name": "stdout",
     "output_type": "stream",
     "text": [
      "Model: \"sequential_1\"\n",
      "_________________________________________________________________\n",
      " Layer (type)                Output Shape              Param #   \n",
      "=================================================================\n",
      " conv2d_3 (Conv2D)           (None, 26, 26, 32)        320       \n",
      "                                                                 \n",
      " max_pooling2d_2 (MaxPooling  (None, 13, 13, 32)       0         \n",
      " 2D)                                                             \n",
      "                                                                 \n",
      " conv2d_4 (Conv2D)           (None, 11, 11, 64)        18496     \n",
      "                                                                 \n",
      " max_pooling2d_3 (MaxPooling  (None, 5, 5, 64)         0         \n",
      " 2D)                                                             \n",
      "                                                                 \n",
      " conv2d_5 (Conv2D)           (None, 3, 3, 64)          36928     \n",
      "                                                                 \n",
      " flatten_1 (Flatten)         (None, 576)               0         \n",
      "                                                                 \n",
      " dense_2 (Dense)             (None, 64)                36928     \n",
      "                                                                 \n",
      " dense_3 (Dense)             (None, 10)                650       \n",
      "                                                                 \n",
      "=================================================================\n",
      "Total params: 93,322\n",
      "Trainable params: 93,322\n",
      "Non-trainable params: 0\n",
      "_________________________________________________________________\n"
     ]
    }
   ],
   "source": [
    "model.summary()"
   ]
  },
  {
   "cell_type": "code",
   "execution_count": 20,
   "id": "b887d621",
   "metadata": {},
   "outputs": [
    {
     "name": "stdout",
     "output_type": "stream",
     "text": [
      "Epoch 1/10\n",
      "1875/1875 [==============================] - 28s 15ms/step - loss: 0.1257 - accuracy: 0.9530 - val_loss: 0.2700 - val_accuracy: 0.9131\n",
      "Epoch 2/10\n",
      "1875/1875 [==============================] - 27s 15ms/step - loss: 0.1163 - accuracy: 0.9561 - val_loss: 0.2870 - val_accuracy: 0.9116\n",
      "Epoch 3/10\n",
      "1875/1875 [==============================] - 29s 16ms/step - loss: 0.1075 - accuracy: 0.9580 - val_loss: 0.3197 - val_accuracy: 0.9112\n",
      "Epoch 4/10\n",
      "1875/1875 [==============================] - 37s 20ms/step - loss: 0.0979 - accuracy: 0.9627 - val_loss: 0.3125 - val_accuracy: 0.9087\n",
      "Epoch 5/10\n",
      "1875/1875 [==============================] - 31s 17ms/step - loss: 0.0918 - accuracy: 0.9654 - val_loss: 0.3461 - val_accuracy: 0.9072\n",
      "Epoch 6/10\n",
      "1875/1875 [==============================] - 40s 22ms/step - loss: 0.0862 - accuracy: 0.9668 - val_loss: 0.3396 - val_accuracy: 0.9095\n",
      "Epoch 7/10\n",
      "1875/1875 [==============================] - 34s 18ms/step - loss: 0.0795 - accuracy: 0.9704 - val_loss: 0.3821 - val_accuracy: 0.9079\n",
      "Epoch 8/10\n",
      "1875/1875 [==============================] - 27s 14ms/step - loss: 0.0747 - accuracy: 0.9718 - val_loss: 0.3930 - val_accuracy: 0.9090\n",
      "Epoch 9/10\n",
      "1875/1875 [==============================] - 27s 14ms/step - loss: 0.0708 - accuracy: 0.9725 - val_loss: 0.4006 - val_accuracy: 0.9074\n",
      "Epoch 10/10\n",
      "1875/1875 [==============================] - 29s 15ms/step - loss: 0.0643 - accuracy: 0.9754 - val_loss: 0.4161 - val_accuracy: 0.9093\n"
     ]
    }
   ],
   "source": [
    "h = model.fit(x_train,y_train,epochs=10,validation_data=(x_test,y_test))"
   ]
  },
  {
   "cell_type": "code",
   "execution_count": 21,
   "id": "c14cad81",
   "metadata": {},
   "outputs": [
    {
     "data": {
      "text/html": [
       "<div>\n",
       "<style scoped>\n",
       "    .dataframe tbody tr th:only-of-type {\n",
       "        vertical-align: middle;\n",
       "    }\n",
       "\n",
       "    .dataframe tbody tr th {\n",
       "        vertical-align: top;\n",
       "    }\n",
       "\n",
       "    .dataframe thead th {\n",
       "        text-align: right;\n",
       "    }\n",
       "</style>\n",
       "<table border=\"1\" class=\"dataframe\">\n",
       "  <thead>\n",
       "    <tr style=\"text-align: right;\">\n",
       "      <th></th>\n",
       "      <th>loss</th>\n",
       "      <th>accuracy</th>\n",
       "      <th>val_loss</th>\n",
       "      <th>val_accuracy</th>\n",
       "      <th>Epochs</th>\n",
       "    </tr>\n",
       "  </thead>\n",
       "  <tbody>\n",
       "    <tr>\n",
       "      <th>5</th>\n",
       "      <td>0.086219</td>\n",
       "      <td>0.966833</td>\n",
       "      <td>0.339591</td>\n",
       "      <td>0.9095</td>\n",
       "      <td>5</td>\n",
       "    </tr>\n",
       "    <tr>\n",
       "      <th>6</th>\n",
       "      <td>0.079496</td>\n",
       "      <td>0.970367</td>\n",
       "      <td>0.382066</td>\n",
       "      <td>0.9079</td>\n",
       "      <td>6</td>\n",
       "    </tr>\n",
       "    <tr>\n",
       "      <th>7</th>\n",
       "      <td>0.074668</td>\n",
       "      <td>0.971767</td>\n",
       "      <td>0.392960</td>\n",
       "      <td>0.9090</td>\n",
       "      <td>7</td>\n",
       "    </tr>\n",
       "    <tr>\n",
       "      <th>8</th>\n",
       "      <td>0.070847</td>\n",
       "      <td>0.972517</td>\n",
       "      <td>0.400563</td>\n",
       "      <td>0.9074</td>\n",
       "      <td>8</td>\n",
       "    </tr>\n",
       "    <tr>\n",
       "      <th>9</th>\n",
       "      <td>0.064286</td>\n",
       "      <td>0.975433</td>\n",
       "      <td>0.416068</td>\n",
       "      <td>0.9093</td>\n",
       "      <td>9</td>\n",
       "    </tr>\n",
       "  </tbody>\n",
       "</table>\n",
       "</div>"
      ],
      "text/plain": [
       "       loss  accuracy  val_loss  val_accuracy  Epochs\n",
       "5  0.086219  0.966833  0.339591        0.9095       5\n",
       "6  0.079496  0.970367  0.382066        0.9079       6\n",
       "7  0.074668  0.971767  0.392960        0.9090       7\n",
       "8  0.070847  0.972517  0.400563        0.9074       8\n",
       "9  0.064286  0.975433  0.416068        0.9093       9"
      ]
     },
     "execution_count": 21,
     "metadata": {},
     "output_type": "execute_result"
    }
   ],
   "source": [
    "r = pd.DataFrame(h.history)\n",
    "r['Epochs'] = h.epoch\n",
    "r.tail()"
   ]
  },
  {
   "cell_type": "code",
   "execution_count": 26,
   "id": "e0ca7581",
   "metadata": {},
   "outputs": [
    {
     "data": {
      "image/png": "[encoded data removed]",
      "text/plain": [
       "<Figure size 640x480 with 1 Axes>"
      ]
     },
     "metadata": {},
     "output_type": "display_data"
    }
   ],
   "source": [
    "plt.plot(r['Epochs'],r['loss'],label='Train Loss')\n",
    "plt.plot(r['Epochs'],r['val_loss'],label='Test Loss')\n",
    "plt.title('Loss vs Epochs')\n",
    "plt.xlabel('Epochs')\n",
    "plt.ylabel('Loss')\n",
    "plt.legend()\n",
    "plt.show()"
   ]
  },
  {
   "cell_type": "code",
   "execution_count": 31,
   "id": "b0ad17bd",
   "metadata": {},
   "outputs": [
    {
     "data": {
      "image/png": "[encoded data removed]",
      "text/plain": [
       "<Figure size 640x480 with 1 Axes>"
      ]
     },
     "metadata": {},
     "output_type": "display_data"
    }
   ],
   "source": [
    "plt.plot(r['Epochs'],r['accuracy'],label='Train acc')\n",
    "plt.plot(r['Epochs'],r['val_accuracy'],label='Test acc')\n",
    "plt.title('Acc vs Epochs')\n",
    "plt.xlabel('Epcohs')\n",
    "plt.ylabel('Accuracy')\n",
    "plt.legend()\n",
    "plt.show()"
   ]
  },
  {
   "cell_type": "code",
   "execution_count": 35,
   "id": "7427e617",
   "metadata": {},
   "outputs": [
    {
     "name": "stdout",
     "output_type": "stream",
     "text": [
      "313/313 [==============================] - 2s 7ms/step\n",
      "[[2.4031098e-20 3.4346847e-22 8.0990480e-24 1.5804024e-23 3.4472413e-25\n",
      "  3.8355240e-13 5.0832076e-22 2.6188426e-11 6.7467207e-17 1.0000000e+00]\n",
      " [3.1067177e-08 2.7994719e-20 9.9999917e-01 1.0189330e-15 3.5456244e-14\n",
      "  3.5546245e-21 8.4806106e-07 1.8463417e-26 5.3208111e-16 1.5938633e-19]\n",
      " [6.4136522e-30 1.0000000e+00 1.1465196e-36 4.9694813e-26 9.5198374e-34\n",
      "  0.0000000e+00 5.8448882e-38 7.5685059e-35 4.0808694e-32 0.0000000e+00]]\n"
     ]
    }
   ],
   "source": [
    "ypred = model.predict(x_test)\n",
    "print(ypred[:3])"
   ]
  },
  {
   "cell_type": "code",
   "execution_count": 38,
   "id": "6fda1cd8",
   "metadata": {},
   "outputs": [
    {
     "name": "stdout",
     "output_type": "stream",
     "text": [
      "[9, 2, 1, 1, 6, 1, 4, 6, 5, 7]\n"
     ]
    }
   ],
   "source": [
    "predict_label =[np.argmax(i) for i in ypred]\n",
    "print(predict_label[:10])"
   ]
  },
  {
   "cell_type": "code",
   "execution_count": 45,
   "id": "86d37684",
   "metadata": {},
   "outputs": [
    {
     "name": "stdout",
     "output_type": "stream",
     "text": [
      "Confusion Matrix:\n",
      "[[862   0  24  11   1   0  89   0  13   0]\n",
      " [  5 981   1   7   2   0   2   0   2   0]\n",
      " [ 19   1 899   3  38   0  38   0   2   0]\n",
      " [ 25  14  15 889  27   0  29   0   1   0]\n",
      " [  1   0  60  21 860   0  54   0   3   1]\n",
      " [  0   0   0   0   0 961   0  22   0  17]\n",
      " [109   1  89  22  57   0 713   0   9   0]\n",
      " [  0   0   0   0   0   4   0 980   0  16]\n",
      " [  1   0   2   5   3   1   3   1 983   1]\n",
      " [  1   0   0   0   0   1   0  33   0 965]]\n",
      "\n",
      "Classification Report:\n",
      "              precision    recall  f1-score   support\n",
      "\n",
      "           0       0.84      0.86      0.85      1000\n",
      "           1       0.98      0.98      0.98      1000\n",
      "           2       0.82      0.90      0.86      1000\n",
      "           3       0.93      0.89      0.91      1000\n",
      "           4       0.87      0.86      0.87      1000\n",
      "           5       0.99      0.96      0.98      1000\n",
      "           6       0.77      0.71      0.74      1000\n",
      "           7       0.95      0.98      0.96      1000\n",
      "           8       0.97      0.98      0.98      1000\n",
      "           9       0.96      0.96      0.96      1000\n",
      "\n",
      "    accuracy                           0.91     10000\n",
      "   macro avg       0.91      0.91      0.91     10000\n",
      "weighted avg       0.91      0.91      0.91     10000\n",
      "\n"
     ]
    }
   ],
   "source": [
    "print(\"Confusion Matrix:\")\n",
    "print(confusion_matrix(np.argmax(y_test, axis=1), predict_label))\n",
    "print(\"\\nClassification Report:\")\n",
    "print(classification_report(np.argmax(y_test, axis=1), predict_label))"
   ]
  },
  {
   "cell_type": "code",
   "execution_count": null,
   "id": "70f4b521",
   "metadata": {},
   "outputs": [],
   "source": []
  }
 ],
 "metadata": {
  "kernelspec": {
   "display_name": "Python 3 (ipykernel)",
   "language": "python",
   "name": "python3"
  },
  "language_info": {
   "codemirror_mode": {
    "name": "ipython",
    "version": 3
   },
   "file_extension": ".py",
   "mimetype": "text/x-python",
   "name": "python",
   "nbconvert_exporter": "python",
   "pygments_lexer": "ipython3",
   "version": "3.10.9"
  }
 },
 "nbformat": 4,
 "nbformat_minor": 5
}
